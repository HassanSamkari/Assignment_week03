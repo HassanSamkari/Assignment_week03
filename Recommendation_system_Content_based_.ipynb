{
  "nbformat": 4,
  "nbformat_minor": 0,
  "metadata": {
    "colab": {
      "name": "Recommendation system Content-based .ipynb",
      "provenance": [],
      "mount_file_id": "1o-zrZ8WRqeRzKPXNZVQ1ZdrTDUbE0Aid",
      "authorship_tag": "ABX9TyN30tyujl4xuIWu9XH0oFJi",
      "include_colab_link": true
    },
    "kernelspec": {
      "name": "python3",
      "display_name": "Python 3"
    }
  },
  "cells": [
    {
      "cell_type": "markdown",
      "metadata": {
        "id": "view-in-github",
        "colab_type": "text"
      },
      "source": [
        "<a href=\"https://colab.research.google.com/github/HassanSamkari/Assignment_week03/blob/master/Recommendation_system_Content_based_.ipynb\" target=\"_parent\"><img src=\"https://colab.research.google.com/assets/colab-badge.svg\" alt=\"Open In Colab\"/></a>"
      ]
    },
    {
      "cell_type": "code",
      "metadata": {
        "id": "N9RHu3kgap1t",
        "colab_type": "code",
        "colab": {}
      },
      "source": [
        "import pandas as pd"
      ],
      "execution_count": 0,
      "outputs": []
    },
    {
      "cell_type": "code",
      "metadata": {
        "id": "oMQYAFHda98z",
        "colab_type": "code",
        "colab": {}
      },
      "source": [
        "import numpy as np"
      ],
      "execution_count": 0,
      "outputs": []
    },
    {
      "cell_type": "code",
      "metadata": {
        "id": "0sSWxY_BbPWZ",
        "colab_type": "code",
        "colab": {}
      },
      "source": [
        "import math"
      ],
      "execution_count": 0,
      "outputs": []
    },
    {
      "cell_type": "code",
      "metadata": {
        "id": "puub55xnbRpN",
        "colab_type": "code",
        "colab": {}
      },
      "source": [
        "import matplotlib.pyplot as plt"
      ],
      "execution_count": 0,
      "outputs": []
    },
    {
      "cell_type": "code",
      "metadata": {
        "id": "pK0B17Q8boew",
        "colab_type": "code",
        "colab": {}
      },
      "source": [
        "movies_df = pd.read_csv('/content/drive/My Drive/project for colab/movies.csv')"
      ],
      "execution_count": 0,
      "outputs": []
    },
    {
      "cell_type": "code",
      "metadata": {
        "id": "RSD3IhG0cAk-",
        "colab_type": "code",
        "colab": {}
      },
      "source": [
        "rating_df = pd.read_csv('/content/drive/My Drive/project for colab/ratings.csv')"
      ],
      "execution_count": 0,
      "outputs": []
    }
  ]
}